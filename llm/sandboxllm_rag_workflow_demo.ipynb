{
 "cells": [
  {
   "cell_type": "markdown",
   "id": "02c35e27-5b8f-4402-ba9c-e89799b10789",
   "metadata": {},
   "source": [
    "# 1. milvus"
   ]
  },
  {
   "cell_type": "code",
   "execution_count": 7,
   "id": "ebed8704-c6d8-443d-a682-592df854bec7",
   "metadata": {},
   "outputs": [
    {
     "data": {
      "text/plain": [
       "['Any',\n",
       " 'LangChainDeprecationWarning',\n",
       " '__all__',\n",
       " '__builtins__',\n",
       " '__cached__',\n",
       " '__doc__',\n",
       " '__file__',\n",
       " '__getattr__',\n",
       " '__loader__',\n",
       " '__name__',\n",
       " '__package__',\n",
       " '__path__',\n",
       " '__spec__',\n",
       " '_old_to_new_name',\n",
       " 'is_interactive_env',\n",
       " 'warnings']"
      ]
     },
     "execution_count": 7,
     "metadata": {},
     "output_type": "execute_result"
    }
   ],
   "source": [
    "import langchain\n",
    "from langchain.document_loaders import WebBaseLoader\n",
    "from langchain.text_splitter import RecursiveCharacterTextSplitter\n",
    "\n",
    "dir(langchain.document_loaders)"
   ]
  },
  {
   "cell_type": "code",
   "execution_count": 19,
   "id": "9ca87210-5642-43f6-ad8b-ebd27d8c25bb",
   "metadata": {},
   "outputs": [
    {
     "name": "stdout",
     "output_type": "stream",
     "text": [
      "100\n"
     ]
    }
   ],
   "source": [
    "from langchain_community.document_loaders import TextLoader\n",
    "import os\n",
    "\n",
    "all_splits = []\n",
    "f1 = 'textdata/'\n",
    "for f2 in os.listdir(f1):\n",
    "    f3 = os.path.join(f1,f2)\n",
    "    tld = TextLoader(f3)\n",
    "    doc = tld.load()\n",
    "    sp = text_splitter.split_documents(doc)\n",
    "    all_splits+=sp\n",
    "    \n",
    "all_splits = all_splits[:100] # \n",
    "\n",
    "print(len(all_splits))\n"
   ]
  },
  {
   "cell_type": "code",
   "execution_count": 20,
   "id": "91f8d263-cf34-4515-9c11-5e11a7bedfd1",
   "metadata": {},
   "outputs": [],
   "source": [
    "from langchain.embeddings import HuggingFaceBgeEmbeddings\n",
    "embeddings = HuggingFaceBgeEmbeddings(model_name='embedding/bge/bge-m3/')\n"
   ]
  },
  {
   "cell_type": "code",
   "execution_count": 21,
   "id": "24ceda4c-3edb-4b46-b720-03ee695f6d8f",
   "metadata": {},
   "outputs": [],
   "source": [
    "from langchain.vectorstores.milvus import Milvus\n",
    "\n",
    "URI = 'http://localhost:19530'\n",
    "connection_args = { 'uri': URI }\n",
    "\n",
    "vector_store = Milvus(\n",
    "    embedding_function=embeddings,\n",
    "    connection_args=connection_args,\n",
    "    collection_name='sandboxllm',\n",
    "    drop_old=True,\n",
    ").from_documents(\n",
    "    all_splits,\n",
    "    embedding=embeddings,\n",
    "    collection_name='sandboxllm',\n",
    "    connection_args=connection_args,\n",
    ")"
   ]
  },
  {
   "cell_type": "code",
   "execution_count": 22,
   "id": "90ce10c9-0347-4380-be6a-4daee3af2f10",
   "metadata": {},
   "outputs": [
    {
     "name": "stdout",
     "output_type": "stream",
     "text": [
      "4\n"
     ]
    }
   ],
   "source": [
    "query = \"What is APT ?\"\n",
    "docs = vector_store.similarity_search(query)\n",
    "\n",
    "print(len(docs))\n",
    "\n"
   ]
  },
  {
   "cell_type": "markdown",
   "id": "9b2da0e8-54c6-4b2e-8e4b-85a19ccc315a",
   "metadata": {},
   "source": [
    "# 2. RAG Workflow"
   ]
  },
  {
   "cell_type": "code",
   "execution_count": null,
   "id": "c1d094a1-8bed-4b5d-b6b6-8cd460b2bcf3",
   "metadata": {},
   "outputs": [],
   "source": [
    "from langchain.chat_models import ChatOpenAI\n",
    "from langchain.schema import HumanMessage\n",
    "\n",
    "llm = ChatOpenAI(\n",
    "    streaming=True,\n",
    "    verbose=True,\n",
    "    openai_api_key='none',\n",
    "    openai_api_base='http://localhost:8000/v1',\n",
    "    model_name='ChatGLM'\n",
    ")\n"
   ]
  },
  {
   "cell_type": "code",
   "execution_count": null,
   "id": "0a60db91-a1d7-4b17-8862-e6c12ca41835",
   "metadata": {},
   "outputs": [],
   "source": [
    "from langchain.prompts import PromptTemplate\n",
    "from langchain.schema.runnable import RunnablePassthrough\n",
    "\n",
    "\n",
    "retriever = vector_store.as_retriever()\n",
    "\n",
    "template = \"\"\"Below context is the sandbox analysis result. Please answer the question at the end based on the context. \n",
    "{context}\n",
    "Question: {question}\n",
    "Answer:\"\"\"\n",
    "rag_prompt = PromptTemplate.from_template(template)\n",
    "\n",
    "rag_chain = (\n",
    "    {\"context\": retriever, \"question\": RunnablePassthrough()}\n",
    "    | rag_prompt\n",
    "    | llm\n",
    ")\n",
    "\n",
    "print(rag_chain.invoke(\"What is the malicious behaviors for sample xxx?\"))\n"
   ]
  }
 ],
 "metadata": {
  "kernelspec": {
   "display_name": "Python 3 (ipykernel)",
   "language": "python",
   "name": "python3"
  },
  "language_info": {
   "codemirror_mode": {
    "name": "ipython",
    "version": 3
   },
   "file_extension": ".py",
   "mimetype": "text/x-python",
   "name": "python",
   "nbconvert_exporter": "python",
   "pygments_lexer": "ipython3",
   "version": "3.11.8"
  }
 },
 "nbformat": 4,
 "nbformat_minor": 5
}
